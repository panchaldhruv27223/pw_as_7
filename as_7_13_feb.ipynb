{
 "cells": [
  {
   "cell_type": "markdown",
   "id": "abaddcbb",
   "metadata": {},
   "source": [
    "Q.1  Explain why we have to use the Exception class while creating a Custom Exception"
   ]
  },
  {
   "cell_type": "code",
   "execution_count": null,
   "id": "80cb836f",
   "metadata": {},
   "outputs": [],
   "source": [
    "Exception class is a base class , we create a custom exception class using inheriting Exception class.\n",
    "exception class have lots of exception. in custom exception class we just over read __init__() of exception class\n",
    "so it is easy to use "
   ]
  },
  {
   "cell_type": "code",
   "execution_count": 1,
   "id": "4c4087b8",
   "metadata": {},
   "outputs": [
    {
     "data": {
      "text/plain": [
       "['__cause__',\n",
       " '__class__',\n",
       " '__context__',\n",
       " '__delattr__',\n",
       " '__dict__',\n",
       " '__dir__',\n",
       " '__doc__',\n",
       " '__eq__',\n",
       " '__format__',\n",
       " '__ge__',\n",
       " '__getattribute__',\n",
       " '__gt__',\n",
       " '__hash__',\n",
       " '__init__',\n",
       " '__init_subclass__',\n",
       " '__le__',\n",
       " '__lt__',\n",
       " '__ne__',\n",
       " '__new__',\n",
       " '__reduce__',\n",
       " '__reduce_ex__',\n",
       " '__repr__',\n",
       " '__setattr__',\n",
       " '__setstate__',\n",
       " '__sizeof__',\n",
       " '__str__',\n",
       " '__subclasshook__',\n",
       " '__suppress_context__',\n",
       " '__traceback__',\n",
       " 'args',\n",
       " 'with_traceback']"
      ]
     },
     "execution_count": 1,
     "metadata": {},
     "output_type": "execute_result"
    }
   ],
   "source": [
    "dir(Exception)"
   ]
  },
  {
   "cell_type": "code",
   "execution_count": 4,
   "id": "acd68a21",
   "metadata": {},
   "outputs": [
    {
     "name": "stdout",
     "output_type": "stream",
     "text": [
      "enter a age120\n",
      "ERROR : take rest \n"
     ]
    }
   ],
   "source": [
    "class Age_error(Exception):\n",
    "    def __init__(self,meg):\n",
    "        self.message = meg\n",
    "\n",
    "try :\n",
    "    f = int(input(\"enter a age\"))\n",
    "    if f >80:\n",
    "        raise Age_error(\"ERROR : take rest \")\n",
    "except Age_error as e :\n",
    "    print(e)"
   ]
  },
  {
   "cell_type": "markdown",
   "id": "10df7208",
   "metadata": {},
   "source": [
    "Q.2  Write a python program to print Python Exception Hierarchy."
   ]
  },
  {
   "cell_type": "code",
   "execution_count": 13,
   "id": "d95e9b67",
   "metadata": {
    "scrolled": true
   },
   "outputs": [
    {
     "name": "stdout",
     "output_type": "stream",
     "text": [
      "The class hierarchy for built-in exceptions is:\n",
      " Exception\n",
      "... TypeError\n",
      "...... FloatOperation\n",
      "...... MultipartConversionError\n",
      "... StopAsyncIteration\n",
      "... StopIteration\n",
      "... ImportError\n",
      "...... ModuleNotFoundError\n",
      "...... ZipImportError\n",
      "... OSError\n",
      "...... ConnectionError\n",
      "......... BrokenPipeError\n",
      "......... ConnectionAbortedError\n",
      "......... ConnectionRefusedError\n",
      "......... ConnectionResetError\n",
      "............ RemoteDisconnected\n",
      "...... BlockingIOError\n",
      "...... ChildProcessError\n",
      "...... FileExistsError\n",
      "...... FileNotFoundError\n",
      "...... IsADirectoryError\n",
      "...... NotADirectoryError\n",
      "...... InterruptedError\n",
      "......... InterruptedSystemCall\n",
      "...... PermissionError\n",
      "...... ProcessLookupError\n",
      "...... TimeoutError\n",
      "...... UnsupportedOperation\n",
      "...... herror\n",
      "...... gaierror\n",
      "...... timeout\n",
      "...... SSLError\n",
      "......... SSLCertVerificationError\n",
      "......... SSLZeroReturnError\n",
      "......... SSLWantReadError\n",
      "......... SSLWantWriteError\n",
      "......... SSLSyscallError\n",
      "......... SSLEOFError\n",
      "...... Error\n",
      "......... SameFileError\n",
      "...... SpecialFileError\n",
      "...... ExecError\n",
      "...... ReadError\n",
      "...... URLError\n",
      "......... HTTPError\n",
      "......... ContentTooShortError\n",
      "...... BadGzipFile\n",
      "... EOFError\n",
      "...... IncompleteReadError\n",
      "... RuntimeError\n",
      "...... RecursionError\n",
      "...... NotImplementedError\n",
      "......... ZMQVersionError\n",
      "......... StdinNotImplementedError\n",
      "...... _DeadlockError\n",
      "...... BrokenBarrierError\n",
      "...... BrokenExecutor\n",
      "......... BrokenThreadPool\n",
      "...... SendfileNotAvailableError\n",
      "...... ExtractionError\n",
      "...... VariableError\n",
      "... NameError\n",
      "...... UnboundLocalError\n",
      "... AttributeError\n",
      "...... FrozenInstanceError\n",
      "... SyntaxError\n",
      "...... IndentationError\n",
      "......... TabError\n",
      "... LookupError\n",
      "...... IndexError\n",
      "...... KeyError\n",
      "......... NoSuchKernel\n",
      "......... UnknownBackend\n",
      "...... CodecRegistryError\n",
      "... ValueError\n",
      "...... UnicodeError\n",
      "......... UnicodeEncodeError\n",
      "......... UnicodeDecodeError\n",
      "......... UnicodeTranslateError\n",
      "...... UnsupportedOperation\n",
      "...... JSONDecodeError\n",
      "...... SSLCertVerificationError\n",
      "...... Error\n",
      "...... IllegalMonthError\n",
      "...... IllegalWeekdayError\n",
      "...... ParserError\n",
      "...... ClassNotFound\n",
      "...... ClipboardEmpty\n",
      "...... MessageDefect\n",
      "......... NoBoundaryInMultipartDefect\n",
      "......... StartBoundaryNotFoundDefect\n",
      "......... CloseBoundaryNotFoundDefect\n",
      "......... FirstHeaderLineIsContinuationDefect\n",
      "......... MisplacedEnvelopeHeaderDefect\n",
      "......... MissingHeaderBodySeparatorDefect\n",
      "......... MultipartInvariantViolationDefect\n",
      "......... InvalidMultipartContentTransferEncodingDefect\n",
      "......... UndecodableBytesDefect\n",
      "......... InvalidBase64PaddingDefect\n",
      "......... InvalidBase64CharactersDefect\n",
      "......... InvalidBase64LengthDefect\n",
      "......... HeaderDefect\n",
      "............ InvalidHeaderDefect\n",
      "............ HeaderMissingRequiredValue\n",
      "............ NonPrintableDefect\n",
      "............ ObsoleteHeaderDefect\n",
      "............ NonASCIILocalPartDefect\n",
      "...... MacroToEdit\n",
      "...... InvalidFileException\n",
      "...... InvalidVersion\n",
      "...... InvalidSpecifier\n",
      "...... InvalidMarker\n",
      "...... UndefinedComparison\n",
      "...... UndefinedEnvironmentName\n",
      "...... InvalidRequirement\n",
      "......... RequirementParseError\n",
      "...... InvalidVersion\n",
      "... AssertionError\n",
      "... ArithmeticError\n",
      "...... FloatingPointError\n",
      "...... OverflowError\n",
      "...... ZeroDivisionError\n",
      "......... DivisionByZero\n",
      "......... DivisionUndefined\n",
      "...... DecimalException\n",
      "......... Clamped\n",
      "......... Rounded\n",
      "............ Underflow\n",
      "............ Overflow\n",
      "......... Inexact\n",
      "............ Underflow\n",
      "............ Overflow\n",
      "......... Subnormal\n",
      "............ Underflow\n",
      "......... DivisionByZero\n",
      "......... FloatOperation\n",
      "......... InvalidOperation\n",
      "............ ConversionSyntax\n",
      "............ DivisionImpossible\n",
      "............ DivisionUndefined\n",
      "............ InvalidContext\n",
      "... SystemError\n",
      "...... CodecRegistryError\n",
      "... ReferenceError\n",
      "... MemoryError\n",
      "... BufferError\n",
      "... Warning\n",
      "...... UserWarning\n",
      "......... GetPassWarning\n",
      "......... FormatterWarning\n",
      "...... DeprecationWarning\n",
      "......... ProvisionalWarning\n",
      "...... PendingDeprecationWarning\n",
      "...... SyntaxWarning\n",
      "...... RuntimeWarning\n",
      "......... ProactorSelectorThreadWarning\n",
      "......... UnknownTimezoneWarning\n",
      "......... PEP440Warning\n",
      "...... FutureWarning\n",
      "......... ProvisionalCompleterWarning\n",
      "...... ImportWarning\n",
      "...... UnicodeWarning\n",
      "...... BytesWarning\n",
      "...... ResourceWarning\n",
      "...... DeprecatedTzFormatWarning\n",
      "...... PkgResourcesDeprecationWarning\n",
      "... Error\n",
      "... _OptionError\n",
      "... error\n",
      "... Verbose\n",
      "... _Error\n",
      "... SubprocessError\n",
      "...... CalledProcessError\n",
      "...... TimeoutExpired\n",
      "... TokenError\n",
      "... StopTokenizing\n",
      "... ClassFoundException\n",
      "... EndOfBlock\n",
      "... TraitError\n",
      "... Error\n",
      "... Error\n",
      "...... CancelledError\n",
      "...... TimeoutError\n",
      "...... InvalidStateError\n",
      "... _GiveupOnSendfile\n",
      "... error\n",
      "... Incomplete\n",
      "... TimeoutError\n",
      "... InvalidStateError\n",
      "... LimitOverrunError\n",
      "... QueueEmpty\n",
      "... QueueFull\n",
      "... error\n",
      "... LZMAError\n",
      "... RegistryError\n",
      "... _GiveupOnFastCopy\n",
      "... Empty\n",
      "... Full\n",
      "... ZMQBaseError\n",
      "...... ZMQError\n",
      "......... ContextTerminated\n",
      "......... Again\n",
      "......... InterruptedSystemCall\n",
      "...... ZMQBindError\n",
      "...... NotDone\n",
      "... PickleError\n",
      "...... PicklingError\n",
      "...... UnpicklingError\n",
      "... _Stop\n",
      "... COMError\n",
      "... ArgumentError\n",
      "... ReturnValueIgnoredError\n",
      "... ArgumentError\n",
      "... ArgumentTypeError\n",
      "... ConfigError\n",
      "...... ConfigLoaderError\n",
      "......... ArgumentError\n",
      "...... ConfigFileNotFound\n",
      "... ConfigurableError\n",
      "...... MultipleInstanceError\n",
      "... ApplicationError\n",
      "... InvalidPortNumber\n",
      "... NoIPAddresses\n",
      "... BadZipFile\n",
      "... LargeZipFile\n",
      "... Error\n",
      "...... NoSectionError\n",
      "...... DuplicateSectionError\n",
      "...... DuplicateOptionError\n",
      "...... NoOptionError\n",
      "...... InterpolationError\n",
      "......... InterpolationMissingOptionError\n",
      "......... InterpolationSyntaxError\n",
      "......... InterpolationDepthError\n",
      "...... ParsingError\n",
      "......... MissingSectionHeaderError\n",
      "... BadEntryPoint\n",
      "... NoSuchEntryPoint\n",
      "... DuplicateKernelError\n",
      "... ErrorDuringImport\n",
      "... NotOneValueFound\n",
      "... CannotEval\n",
      "... OptionError\n",
      "... BdbQuit\n",
      "... Restart\n",
      "... FindCmdError\n",
      "... HomeDirError\n",
      "... ProfileDirError\n",
      "... IPythonCoreError\n",
      "...... TryNext\n",
      "...... UsageError\n",
      "...... StdinNotImplementedError\n",
      "... InputRejected\n",
      "... GetoptError\n",
      "... ErrorToken\n",
      "... PrefilterError\n",
      "... AliasError\n",
      "...... InvalidAliasError\n",
      "... Error\n",
      "...... InterfaceError\n",
      "...... DatabaseError\n",
      "......... InternalError\n",
      "......... OperationalError\n",
      "......... ProgrammingError\n",
      "......... IntegrityError\n",
      "......... DataError\n",
      "......... NotSupportedError\n",
      "... Warning\n",
      "... SpaceInInput\n",
      "... DOMException\n",
      "...... IndexSizeErr\n",
      "...... DomstringSizeErr\n",
      "...... HierarchyRequestErr\n",
      "...... WrongDocumentErr\n",
      "...... InvalidCharacterErr\n",
      "...... NoDataAllowedErr\n",
      "...... NoModificationAllowedErr\n",
      "...... NotFoundErr\n",
      "...... NotSupportedErr\n",
      "...... InuseAttributeErr\n",
      "...... InvalidStateErr\n",
      "...... SyntaxErr\n",
      "...... InvalidModificationErr\n",
      "...... NamespaceErr\n",
      "...... InvalidAccessErr\n",
      "...... ValidationErr\n",
      "... ValidationError\n",
      "... EditReadOnlyBuffer\n",
      "... _Retry\n",
      "... InvalidLayoutError\n",
      "... HeightIsUnknownError\n",
      "... GuardRejection\n",
      "... ParserSyntaxError\n",
      "... InternalParseError\n",
      "... _PositionUpdatingFinished\n",
      "... SimpleGetItemNotFound\n",
      "... UncaughtAttributeError\n",
      "... HasNoContext\n",
      "... ParamIssue\n",
      "... _JediError\n",
      "...... InternalError\n",
      "...... WrongVersion\n",
      "...... RefactoringError\n",
      "... OnErrorLeaf\n",
      "... InvalidPythonEnvironment\n",
      "... MessageError\n",
      "...... MessageParseError\n",
      "......... HeaderParseError\n",
      "......... BoundaryError\n",
      "...... MultipartConversionError\n",
      "...... CharsetError\n",
      "... Error\n",
      "... HTTPException\n",
      "...... NotConnected\n",
      "...... InvalidURL\n",
      "...... UnknownProtocol\n",
      "...... UnknownTransferEncoding\n",
      "...... UnimplementedFileMode\n",
      "...... IncompleteRead\n",
      "...... ImproperConnectionState\n",
      "......... CannotSendRequest\n",
      "......... CannotSendHeader\n",
      "......... ResponseNotReady\n",
      "...... BadStatusLine\n",
      "......... RemoteDisconnected\n",
      "...... LineTooLong\n",
      "... InteractivelyDefined\n",
      "... KillEmbedded\n",
      "... Error\n",
      "...... NoSuchProcess\n",
      "......... ZombieProcess\n",
      "...... AccessDenied\n",
      "...... TimeoutExpired\n",
      "... Error\n",
      "... TimeoutExpired\n",
      "... TimeoutAbandoned\n",
      "... KeyReuseError\n",
      "... UnknownKeyError\n",
      "... LeakedCallbackError\n",
      "... BadYieldError\n",
      "... ReturnValueIgnoredError\n",
      "... Return\n",
      "... QueueEmpty\n",
      "... QueueFull\n",
      "... DebuggerInitializationError\n",
      "... ExpatError\n",
      "... Error\n",
      "...... ProtocolError\n",
      "...... ResponseError\n",
      "...... Fault\n",
      "... error\n",
      "... com_error\n",
      "... internal_error\n",
      "... ParseBaseException\n",
      "...... ParseException\n",
      "...... ParseFatalException\n",
      "......... ParseSyntaxException\n",
      "... RecursiveGrammarException\n",
      "... ResolutionError\n",
      "...... VersionConflict\n",
      "......... ContextualVersionConflict\n",
      "...... DistributionNotFound\n",
      "...... UnknownExtra\n",
      "... _Error\n",
      "... UnableToResolveVariableException\n",
      "... InvalidTypeInArgsException\n",
      "... err\n",
      "... Age_error\n"
     ]
    }
   ],
   "source": [
    "import inspect\n",
    "print(\"The class hierarchy for built-in exceptions is:\")\n",
    "inspect.getclasstree(inspect.getmro(Exception))\n",
    "def classtree(cls, indent=0):\n",
    "    print('.' * indent, cls.__name__)\n",
    "    for subcls in cls.__subclasses__():\n",
    "        classtree(subcls, indent + 3)\n",
    "classtree(Exception)"
   ]
  },
  {
   "cell_type": "code",
   "execution_count": 5,
   "id": "41eb4e12",
   "metadata": {},
   "outputs": [
    {
     "data": {
      "text/plain": [
       "['__cause__',\n",
       " '__class__',\n",
       " '__context__',\n",
       " '__delattr__',\n",
       " '__dict__',\n",
       " '__dir__',\n",
       " '__doc__',\n",
       " '__eq__',\n",
       " '__format__',\n",
       " '__ge__',\n",
       " '__getattribute__',\n",
       " '__gt__',\n",
       " '__hash__',\n",
       " '__init__',\n",
       " '__init_subclass__',\n",
       " '__le__',\n",
       " '__lt__',\n",
       " '__ne__',\n",
       " '__new__',\n",
       " '__reduce__',\n",
       " '__reduce_ex__',\n",
       " '__repr__',\n",
       " '__setattr__',\n",
       " '__setstate__',\n",
       " '__sizeof__',\n",
       " '__str__',\n",
       " '__subclasshook__',\n",
       " '__suppress_context__',\n",
       " '__traceback__',\n",
       " 'args',\n",
       " 'with_traceback']"
      ]
     },
     "execution_count": 5,
     "metadata": {},
     "output_type": "execute_result"
    }
   ],
   "source": [
    "dir(Exception)"
   ]
  },
  {
   "cell_type": "markdown",
   "id": "72d48a01",
   "metadata": {},
   "source": [
    "Q 3. What errors are defined in the ArithmeticError class? Explain any two with an example"
   ]
  },
  {
   "cell_type": "code",
   "execution_count": 15,
   "id": "6e204fed",
   "metadata": {},
   "outputs": [
    {
     "name": "stdout",
     "output_type": "stream",
     "text": [
      " ArithmeticError\n",
      "... FloatingPointError\n",
      "... OverflowError\n",
      "... ZeroDivisionError\n",
      "...... DivisionByZero\n",
      "...... DivisionUndefined\n",
      "... DecimalException\n",
      "...... Clamped\n",
      "...... Rounded\n",
      "......... Underflow\n",
      "......... Overflow\n",
      "...... Inexact\n",
      "......... Underflow\n",
      "......... Overflow\n",
      "...... Subnormal\n",
      "......... Underflow\n",
      "...... DivisionByZero\n",
      "...... FloatOperation\n",
      "...... InvalidOperation\n",
      "......... ConversionSyntax\n",
      "......... DivisionImpossible\n",
      "......... DivisionUndefined\n",
      "......... InvalidContext\n"
     ]
    }
   ],
   "source": [
    "import inspect\n",
    "inspect.getclasstree(inspect.getmro(Exception))\n",
    "def classtree(cls, indent=0):\n",
    "    print('.' * indent, cls.__name__)\n",
    "    for subcls in cls.__subclasses__():\n",
    "        classtree(subcls, indent + 3)\n",
    "classtree(ArithmeticError)"
   ]
  },
  {
   "cell_type": "code",
   "execution_count": 30,
   "id": "daab41f0",
   "metadata": {},
   "outputs": [
    {
     "name": "stdout",
     "output_type": "stream",
     "text": [
      "Enter a number :120\n",
      "division by zero\n"
     ]
    }
   ],
   "source": [
    "# EX_1 :\n",
    "\n",
    "try :\n",
    "    num1 = int(input(\"Enter a number :\"))\n",
    "    div = num1/0\n",
    "except ArithmeticError as e :\n",
    "    print(e)"
   ]
  },
  {
   "cell_type": "code",
   "execution_count": null,
   "id": "0fb53b56",
   "metadata": {},
   "outputs": [],
   "source": []
  },
  {
   "cell_type": "code",
   "execution_count": 6,
   "id": "9cfe2e96",
   "metadata": {},
   "outputs": [
    {
     "name": "stdout",
     "output_type": "stream",
     "text": [
      "1\n",
      "2\n",
      "6\n",
      "24\n",
      "120\n",
      "720\n",
      "5040\n",
      "40320\n",
      "over flow\n"
     ]
    }
   ],
   "source": [
    "# EX -2 :\n",
    "\n",
    "try :\n",
    "    j = 1\n",
    "    for i in range(1,10000):\n",
    "        j = j*i\n",
    "        print(j)\n",
    "        if j >10000:\n",
    "            raise OverflowError(\"over flow\")\n",
    "except OverflowError as e:\n",
    "    print(e)"
   ]
  },
  {
   "cell_type": "markdown",
   "id": "bf54713b",
   "metadata": {},
   "source": [
    "Q 4. Why LookupError class is used? Explain with an example KeyError and IndexError"
   ]
  },
  {
   "cell_type": "code",
   "execution_count": 16,
   "id": "5281b038",
   "metadata": {},
   "outputs": [],
   "source": [
    "# This type of error is generally encountered while using maps.\n",
    "# The LookupError raises two exceptions which are KeyError and IndexError.\n",
    "# It serves as the base class for exceptions like inedxerror and keyerror ...\n",
    "# this type of exception occur due to invalid keys or indexes used on a mapping or sequence."
   ]
  },
  {
   "cell_type": "code",
   "execution_count": 17,
   "id": "a0863282",
   "metadata": {},
   "outputs": [
    {
     "name": "stdout",
     "output_type": "stream",
     "text": [
      "invalid index try again : list index out of range\n"
     ]
    }
   ],
   "source": [
    "try :\n",
    "    l = [1,2,3]\n",
    "    print(l[5])\n",
    "except IndexError as e :\n",
    "    print(\"invalid index try again : {}\".format(e))"
   ]
  },
  {
   "cell_type": "code",
   "execution_count": 18,
   "id": "9f839d01",
   "metadata": {},
   "outputs": [
    {
     "name": "stdout",
     "output_type": "stream",
     "text": [
      "key not found :'key4'\n"
     ]
    }
   ],
   "source": [
    "try :\n",
    "    d = {\"key1\":1, \"key2\":2,\"key3\":3}\n",
    "    v = (d[\"key4\"])\n",
    "except KeyError as e :\n",
    "    print(\"key not found :{}\".format(e))"
   ]
  },
  {
   "cell_type": "markdown",
   "id": "442d034f",
   "metadata": {},
   "source": [
    "Q 5. Explain ImportError. What is ModuleNotFoundError?"
   ]
  },
  {
   "cell_type": "code",
   "execution_count": 19,
   "id": "38e79732",
   "metadata": {},
   "outputs": [],
   "source": [
    "# ImportError is occur when we are not able to import some module or library or file\n",
    "# ModuleNotFoundError is a error which occur when we try to use module which is not available or we can say which module we try to \n",
    "# use is not there . which module we want is not there"
   ]
  },
  {
   "cell_type": "code",
   "execution_count": 21,
   "id": "0b495415",
   "metadata": {},
   "outputs": [
    {
     "name": "stdout",
     "output_type": "stream",
     "text": [
      "cannot import name 'dhruv' from 'string' (C:\\Users\\dhruv\\AppData\\Local\\Programs\\Python\\Python39\\lib\\string.py)\n"
     ]
    }
   ],
   "source": [
    "# like  import error\n",
    "\n",
    "try :\n",
    "    from string import dhruv \n",
    "except ImportError as e:\n",
    "    print(e)"
   ]
  },
  {
   "cell_type": "code",
   "execution_count": 23,
   "id": "3bee28f1",
   "metadata": {},
   "outputs": [
    {
     "name": "stdout",
     "output_type": "stream",
     "text": [
      "No module named 'ab'\n"
     ]
    }
   ],
   "source": [
    "# now \n",
    "\n",
    "try :\n",
    "    from ab import bc\n",
    "except ModuleNotFoundError as e :\n",
    "    print(e)"
   ]
  },
  {
   "cell_type": "markdown",
   "id": "2e50c533",
   "metadata": {},
   "source": [
    "Q 6. List down some best practices for exception handling in python."
   ]
  },
  {
   "cell_type": "code",
   "execution_count": null,
   "id": "1365e9b7",
   "metadata": {},
   "outputs": [],
   "source": [
    "1.use always specific exception\n",
    "2.print always proper message\n",
    "3.always log error\n",
    "4.always avoid to write multiple exception error\n",
    "5.Document all the error\n",
    "6.clean up all the resources"
   ]
  }
 ],
 "metadata": {
  "kernelspec": {
   "display_name": "Python 3 (ipykernel)",
   "language": "python",
   "name": "python3"
  },
  "language_info": {
   "codemirror_mode": {
    "name": "ipython",
    "version": 3
   },
   "file_extension": ".py",
   "mimetype": "text/x-python",
   "name": "python",
   "nbconvert_exporter": "python",
   "pygments_lexer": "ipython3",
   "version": "3.9.7"
  }
 },
 "nbformat": 4,
 "nbformat_minor": 5
}
